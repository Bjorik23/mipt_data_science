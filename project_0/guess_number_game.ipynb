{
  "cells": [
    {
      "cell_type": "markdown",
      "metadata": {
        "id": "dWcE-y-N-2fE"
      },
      "source": [
        "# Угадай число\n",
        "Необходимо написать программу для угадывания числа, соблюдая следующие условия:\n",
        "\n",
        "- Компьютер загадывает целое число от 1 до 100, и нам его нужно угадать. Под «угадать», подразумевается «написать программу, которая угадывает число».    \n",
        "- Алгоритм учитывает информацию о том, больше ли случайное число или меньше нужного нам.\n",
        "- Необходимо добиться того, чтобы программа угадывала число меньше, чем за 20 попыток.\n"
      ]
    },
    {
      "cell_type": "markdown",
      "metadata": {
        "id": "4sShzLei_ClF"
      },
      "source": [
        "Импортируем библиотеку `numpy`"
      ]
    },
    {
      "cell_type": "code",
      "execution_count": 2,
      "metadata": {
        "id": "KIy8PgXL-2fH"
      },
      "outputs": [],
      "source": [
        "import numpy as np"
      ]
    },
    {
      "cell_type": "markdown",
      "metadata": {
        "id": "jf8LUtxQBChn"
      },
      "source": [
        "Сначала рассмотрим два подхода угадывания числа, которые изучали ранее."
      ]
    },
    {
      "cell_type": "markdown",
      "metadata": {
        "id": "shciKwTp-2fJ"
      },
      "source": [
        "## Подход 1: Случайное угадывание"
      ]
    },
    {
      "cell_type": "markdown",
      "metadata": {
        "id": "XCYf-uZa-_Oa"
      },
      "source": [
        "Простейший способ решения: научить программу случайным образом выбирать число до тех пор, пока оно не будет угадано."
      ]
    },
    {
      "cell_type": "code",
      "execution_count": 3,
      "metadata": {
        "id": "pJaQGNND-2fK"
      },
      "outputs": [],
      "source": [
        "def random_predict(number: int = 1) -> int:\n",
        "    \"\"\"Просто угадываем на random, никак не используя информацию о больше или меньше.\n",
        "       Функция принимает загаданное число и возвращает число попыток\n",
        "\n",
        "    Args:\n",
        "        number (int, optional): Загаданное число. Defaults to 1.\n",
        "\n",
        "    Returns:\n",
        "        int: Число попыток\n",
        "    \"\"\"\n",
        "    count = 0\n",
        "    # создаем цикл для случайного определения загаданного числа\n",
        "    while True:\n",
        "        count += 1\n",
        "        # генерируем случайное число\n",
        "        predict_number = np.random.randint(1, 101)\n",
        "        # сравниваем загаданное число и сгенерированное\n",
        "        if number == predict_number:\n",
        "            break  # выход из цикла если угадали\n",
        "    return count\n"
      ]
    },
    {
      "cell_type": "markdown",
      "metadata": {
        "id": "Da8TSXrE_2QC"
      },
      "source": [
        "## Подход 2: Угадывание с коррекцией"
      ]
    },
    {
      "cell_type": "markdown",
      "metadata": {
        "id": "UeFYnSZi_7uZ"
      },
      "source": [
        "Сначала устанавливаем любое случайное число, а потом уменьшаем или увеличиваем его в зависимости от того, больше оно или меньше нужного."
      ]
    },
    {
      "cell_type": "code",
      "execution_count": 4,
      "metadata": {
        "id": "bFzp7ROY_QYY"
      },
      "outputs": [],
      "source": [
        "def game_core_v2(number: int = 1) -> int:\n",
        "    \"\"\"Сначала устанавливаем любое random число, а потом уменьшаем\n",
        "       или увеличиваем его в зависимости от того, больше оно или меньше нужного.\n",
        "       Функция принимает загаданное число и возвращает число попыток\n",
        "\n",
        "    Args:\n",
        "        number (int, optional): Загаданное число. Defaults to 1.\n",
        "\n",
        "    Returns:\n",
        "        int: Число попыток\n",
        "    \"\"\"\n",
        "    count = 0\n",
        "    predict = np.random.randint(1, 101)\n",
        "    # создаем цикл для пошагового определения загаданного числа\n",
        "    while number != predict:\n",
        "        count += 1\n",
        "        if number > predict:\n",
        "            predict += 1\n",
        "        elif number < predict:\n",
        "            predict -= 1\n",
        "\n",
        "    return count"
      ]
    },
    {
      "cell_type": "markdown",
      "metadata": {
        "id": "_H0wabPwBfRo"
      },
      "source": [
        "Как мы видим, две предложенные программы показывают не лучший результат.\n",
        "Теперь вы попробуете решить эту задачу и найти более обтимальный алгоритм."
      ]
    },
    {
      "cell_type": "markdown",
      "metadata": {
        "id": "ZIdPcSWzB0G1"
      },
      "source": [
        "## Подход 3: Угадывание с помощью алгоритма бинарного поиска"
      ]
    },
    {
      "cell_type": "markdown",
      "metadata": {
        "id": "KPT5reW1B32U"
      },
      "source": [
        "Напишите функцию, которая принимает на вход загаданное число и возвращает число попыток угадывания с помощью алгоритма бинарного поиска. Этот алгоритм основан на том, что вы делите диапазон возможных значений пополам на каждом шаге, исключая половину, в которой целевое число не может находиться"
      ]
    },
    {
      "cell_type": "code",
      "execution_count": 6,
      "metadata": {
        "id": "IvaUUPIe-2fN"
      },
      "outputs": [],
      "source": [
        "def game_core_v3(number: int = 1) -> int:\n",
        "    \"\"\"Угадываем число с помощью бинарного поиска.\n",
        "\n",
        "    Args:\n",
        "        number_to_guess (int): Число, которое нужно угадать.\n",
        "\n",
        "    Returns:\n",
        "        int: Количество попыток, затраченных на угадывание числа.\n",
        "    \"\"\"\n",
        "    low = 1\n",
        "    high = 100\n",
        "    count = 0\n",
        "    # создаем цикл для бинарного поиска загаданного числа\n",
        "    while True:\n",
        "        guess = (low + high) // 2\n",
        "        count += 1\n",
        "\n",
        "        if guess == number:\n",
        "            return count\n",
        "        elif guess < number:\n",
        "            low = guess + 1\n",
        "        else:\n",
        "            high = guess - 1"
      ]
    },
    {
      "cell_type": "markdown",
      "metadata": {
        "id": "t3rDQ1wTBaXC"
      },
      "source": [
        "Далее напишем функцию для оценки работы программы угадывания"
      ]
    },
    {
      "cell_type": "markdown",
      "metadata": {
        "id": "GCu4m8fu_-al"
      },
      "source": [
        "## Функция для оценки"
      ]
    },
    {
      "cell_type": "markdown",
      "metadata": {
        "id": "7ZlAJ37fAJ99"
      },
      "source": [
        "Эта функция необходима, чтобы определить, за какое число попыток в среднем программа угадывает наше число."
      ]
    },
    {
      "cell_type": "code",
      "execution_count": 7,
      "metadata": {
        "id": "t4WXEDFS_ThY"
      },
      "outputs": [],
      "source": [
        "def score_game(random_predict) -> int:\n",
        "    \"\"\"За какое количество попыток в среднем за 10000 подходов угадывает наш алгоритм\n",
        "\n",
        "    Args:\n",
        "        random_predict ([type]): функция угадывания\n",
        "\n",
        "    Returns:\n",
        "        int: среднее количество попыток\n",
        "    \"\"\"\n",
        "    count_ls = []\n",
        "    #np.random.seed(1)  # фиксируем сид для воспроизводимости\n",
        "    random_array = np.random.randint(1, 101, size=(10000))  # загадали список чисел\n",
        "    # создаем цикл для наполнения списка значениями количества угадываний\n",
        "    for number in random_array:\n",
        "        count_ls.append(random_predict(number))\n",
        "    # определяем среднее количество угадываний\n",
        "    score = int(np.mean(count_ls))\n",
        "    print(f\"Ваш алгоритм угадывает число в среднем за: {score} попытки\")"
      ]
    },
    {
      "cell_type": "markdown",
      "metadata": {
        "id": "PCC3-Hwz-2fL"
      },
      "source": [
        "## Оценка работы алгоритмов\n",
        "Определяем, какой подход лучше."
      ]
    },
    {
      "cell_type": "code",
      "execution_count": 8,
      "metadata": {
        "colab": {
          "base_uri": "https://localhost:8080/"
        },
        "id": "khrxOcEB-2fM",
        "outputId": "6e57dec2-74fd-497d-a8bf-195e59839d17"
      },
      "outputs": [
        {
          "name": "stdout",
          "output_type": "stream",
          "text": [
            "Run benchmarking for random_predict: Ваш алгоритм угадывает число в среднем за: 98 попытки\n",
            "Run benchmarking for game_core_v2: Ваш алгоритм угадывает число в среднем за: 33 попытки\n",
            "Run benchmarking for game_core_v3: Ваш алгоритм угадывает число в среднем за: 5 попытки\n"
          ]
        }
      ],
      "source": [
        "#Run benchmarking to score effectiveness of all algorithms\n",
        "print('Run benchmarking for random_predict: ', end='')\n",
        "score_game(random_predict)\n",
        "\n",
        "print('Run benchmarking for game_core_v2: ', end='')\n",
        "score_game(game_core_v2)\n",
        "\n",
        "print('Run benchmarking for game_core_v3: ', end='')\n",
        "score_game(game_core_v3)"
      ]
    },
    {
      "cell_type": "markdown",
      "metadata": {
        "id": "7gc6XmUPC04X"
      },
      "source": [
        "Как видим, наилучшие результаты по угадванию показала функция с применением алгоритма бинарного поиска. В среднем угадывает за 5 попыток. Остальные способы не укладываются в заданные рамки в 20 угадываний."
      ]
    }
  ],
  "metadata": {
    "colab": {
      "provenance": []
    },
    "interpreter": {
      "hash": "09714a52f69239c6409b3d073f9f3ca0ddb4056fc648d88f7346d3f36a5c4020"
    },
    "kernelspec": {
      "display_name": "Python 3.7.7 64-bit ('ds': conda)",
      "name": "python3"
    },
    "language_info": {
      "codemirror_mode": {
        "name": "ipython",
        "version": 3
      },
      "file_extension": ".py",
      "mimetype": "text/x-python",
      "name": "python",
      "nbconvert_exporter": "python",
      "pygments_lexer": "ipython3",
      "version": "3.10.9"
    },
    "orig_nbformat": 4
  },
  "nbformat": 4,
  "nbformat_minor": 0
}
